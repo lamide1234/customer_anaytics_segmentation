{
 "cells": [
  {
   "cell_type": "code",
   "execution_count": null,
   "id": "91c7a4bb",
   "metadata": {},
   "outputs": [],
   "source": [
    "import pandas as pd\n",
    "import matplotlib.pyplot as plt \n",
    "import seaborn as sns\n",
    "\n",
    "from sklearn.cluster import KMeans\n",
    "from sklearn.metrics import silhouette_score\n",
    "from sklearn.preprocessing import StandardScaler\n",
    "\n",
    "#to make numbers easier to read\n",
    "pd.options.display.float_format ='{:20.2f}'.format\n",
    "\n",
    "#to show all columns on output \n",
    "pd.set_option('display.max_columns',999)"
   ]
  },
  {
   "cell_type": "markdown",
   "id": "69114829",
   "metadata": {},
   "source": [
    "### Data Exploration"
   ]
  },
  {
   "cell_type": "code",
   "execution_count": null,
   "id": "5c3373a9",
   "metadata": {},
   "outputs": [],
   "source": [
    "df=pd.read_excel('data\\online_retail_II.xlsx')\n",
    "df.head(10)"
   ]
  },
  {
   "cell_type": "code",
   "execution_count": null,
   "id": "941bfb5c",
   "metadata": {},
   "outputs": [],
   "source": []
  }
 ],
 "metadata": {
  "kernelspec": {
   "display_name": "Python (TensorFlow GPU)",
   "language": "python",
   "name": "tf-gpu-env"
  },
  "language_info": {
   "name": "python",
   "version": "undefined.undefined.undefined"
  }
 },
 "nbformat": 4,
 "nbformat_minor": 5
}
